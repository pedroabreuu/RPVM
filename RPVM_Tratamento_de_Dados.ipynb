{
  "nbformat": 4,
  "nbformat_minor": 0,
  "metadata": {
    "colab": {
      "provenance": []
    },
    "kernelspec": {
      "name": "python3",
      "display_name": "Python 3"
    },
    "language_info": {
      "name": "python"
    }
  },
  "cells": [
    {
      "cell_type": "code",
      "execution_count": 6,
      "metadata": {
        "colab": {
          "base_uri": "https://localhost:8080/"
        },
        "id": "cdiw6oQKdD-F",
        "outputId": "c989aa48-8bde-4ffe-9801-da100610e479"
      },
      "outputs": [
        {
          "output_type": "stream",
          "name": "stdout",
          "text": [
            "Planilha unificada criada com sucesso!\n"
          ]
        }
      ],
      "source": [
        "import pandas as pd\n",
        "import numpy as np\n",
        "import re\n",
        "from datetime import datetime\n",
        "\n",
        "def processar_planilhas():\n",
        "    recebimento = pd.read_excel('recebimento_ajustado.xlsx')\n",
        "    expedicao = pd.read_excel('expedicao.xlsx')\n",
        "    lista_produtos = pd.read_excel('listadeprodutos.xlsx')\n",
        "    matriz_distancias = pd.read_excel('matriz_distancias.xlsx', index_col=0)\n",
        "\n",
        "    expedicao = expedicao.rename(columns={\n",
        "        'Nº da ordem de transporte': 'ordem',\n",
        "        'Material': 'material',\n",
        "        'Qtd.teórica origem': 'quantidade',\n",
        "        'Posição dep.origem': 'origem',\n",
        "        'Posição de destino enclausuramentos': 'destino',\n",
        "        'Data de criação': 'data',\n",
        "        'Hora da criação': 'hora'\n",
        "    })\n",
        "\n",
        "    recebimento = recebimento.rename(columns={\n",
        "        'Nº da ordem de transporte': 'ordem',\n",
        "        'tipo de produto': 'material',\n",
        "        'Qtd.teórica origem': 'quantidade',\n",
        "        'posição de origem ': 'origem',\n",
        "        'Posição dep.destino': 'destino',\n",
        "        'Data de criação': 'data',\n",
        "        'Hora da criação': 'hora'\n",
        "    })\n",
        "\n",
        "    def padronizar_localizacao(loc):\n",
        "      if pd.isna(loc):\n",
        "          return loc\n",
        "      loc = str(loc)\n",
        "\n",
        "      if loc.isdigit():\n",
        "          return f\"e{loc.zfill(2)}\"\n",
        "\n",
        "      elif re.match(r'^A[VX][A-Za-z0-9]+$', loc):\n",
        "          return loc.upper().strip()\n",
        "\n",
        "      elif loc.startswith(('Esteira', 'E')):\n",
        "          return loc\n",
        "\n",
        "      else:\n",
        "          return loc.upper().strip()\n",
        "\n",
        "    expedicao['destino'] = expedicao['destino'].apply(padronizar_localizacao)\n",
        "    recebimento['origem'] = recebimento['origem'].apply(padronizar_localizacao)\n",
        "    expedicao['operacao'] = 'expedicao'\n",
        "    recebimento['operacao'] = 'recebimento'\n",
        "\n",
        "    df_unificado = pd.concat([recebimento, expedicao], ignore_index=True)\n",
        "\n",
        "    df_unificado['data_hora'] = pd.to_datetime(\n",
        "        df_unificado['data'].astype(str) + ' ' + df_unificado['hora'].astype(str))\n",
        "\n",
        "    lista_produtos = lista_produtos.rename(columns={\n",
        "        'PNC': 'material',\n",
        "        'Base Bloco': 'base'\n",
        "    })\n",
        "    df_unificado = pd.merge(df_unificado, lista_produtos[['material', 'base']],\n",
        "                           on='material', how='left')\n",
        "\n",
        "    def calcular_distancia(row):\n",
        "        origem = row['origem']\n",
        "        destino = row['destino']\n",
        "\n",
        "        if origem in matriz_distancias.columns and destino in matriz_distancias.index:\n",
        "            return matriz_distancias.loc[destino, origem]\n",
        "        return np.nan\n",
        "\n",
        "    df_unificado['distancia'] = df_unificado.apply(calcular_distancia, axis=1)\n",
        "\n",
        "    df_unificado = df_unificado.sort_values('data_hora').reset_index(drop=True)\n",
        "    colunas_finais = [\n",
        "        'operacao', 'ordem', 'material', 'base', 'quantidade',\n",
        "        'origem', 'destino', 'data_hora', 'distancia'\n",
        "    ]\n",
        "    df_unificado = df_unificado[colunas_finais]\n",
        "    df_unificado.to_excel('ordens_unificadas.xlsx', index=False)\n",
        "    print(\"Planilha criada\")\n",
        "\n",
        "    return df_unificado\n",
        "\n",
        "df_final = processar_planilhas()"
      ]
    }
  ]
}